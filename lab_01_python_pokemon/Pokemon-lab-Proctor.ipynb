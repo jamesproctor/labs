{
 "cells": [
  {
   "cell_type": "markdown",
   "metadata": {},
   "source": [
    "<img src=\"http://imgur.com/1ZcRyrc.png\" style=\"float: left; margin: 15px; height: 80px\">\n",
    "\n",
    "# 1.1-1.3 Lab- Data Structures and Python with Pokemon\n",
    "\n",
    "### Building \"Pokemon Stay\"\n",
    "\n",
    "---\n",
    "You are an analyst at a \"scrappy\" online gaming company that specializes in remakes of last year's fads.\n",
    "\n",
    "Your boss, who runs the product development team, is convinced that Pokemon Go's fatal flaw was that you had to actually move around outside. She has design mock-ups for a new game called Pokemon Stay: in this version players still need to move, but just from website to website. Pokemon gyms are now popular online destinations, and catching Pokemon in the \"wild\" simply requires browsing the internet for hours in the comfort of your home.\n",
    "\n",
    "She wants you to program a prototype version of the game, and analyze the planned content to help the team calibrate the design."
   ]
  },
  {
   "cell_type": "code",
   "execution_count": 56,
   "metadata": {
    "ExecuteTime": {
     "end_time": "2018-04-24T22:01:22.549014Z",
     "start_time": "2018-04-24T22:01:22.540570Z"
    }
   },
   "outputs": [],
   "source": [
    "from IPython.display import display\n",
    "import numpy as np\n",
    "np.random.seed(42)"
   ]
  },
  {
   "cell_type": "markdown",
   "metadata": {},
   "source": [
    "<img src=\"http://imgur.com/l5NasQj.png\" style=\"float: left; margin: 25px 15px 0px 0px; height: 25px\">\n",
    "\n",
    "## 1. Defining a player\n",
    "\n",
    "---\n",
    "Each player needs to have a set of charactaristics, stored in variables, such as an id, a username, play data, etc. A great structure to house these variables is a `dictionary`, because the `values` can contain any python datatype includeing `list`, `dict`, `tuple`, `int`, `float`, `bool`, or `str`. \n",
    "\n",
    "The player variables are:\n",
    "\n",
    "    player_id : id code unique to each player (integer)\n",
    "    player_name : entered name of the player (string)\n",
    "    time_played : number of time played the game in minutes (float)\n",
    "    player_pokemon: the player's captured pokemon (dictionary)\n",
    "    gyms_visited: ids of the gyms that a player has visited (list)"
   ]
  },
  {
   "cell_type": "markdown",
   "metadata": {
    "collapsed": true
   },
   "source": [
    "### A) Create a `dict` for a single player.\n",
    "\n",
    "* The `player_id` should be 1\n",
    "* Since the player doesn't have a name yet, you may set the `player_name` equal to `None`\n",
    "* The rest of the fields should be populated properly depending on the datatype."
   ]
  },
  {
   "cell_type": "code",
   "execution_count": 57,
   "metadata": {
    "ExecuteTime": {
     "end_time": "2018-04-24T21:45:16.859691Z",
     "start_time": "2018-04-24T21:45:16.848985Z"
    }
   },
   "outputs": [
    {
     "data": {
      "text/plain": [
       "{}"
      ]
     },
     "execution_count": 57,
     "metadata": {},
     "output_type": "execute_result"
    }
   ],
   "source": [
    "poke_players = {}\n",
    "poke_players"
   ]
  },
  {
   "cell_type": "code",
   "execution_count": 58,
   "metadata": {
    "ExecuteTime": {
     "end_time": "2018-04-24T21:45:16.946257Z",
     "start_time": "2018-04-24T21:45:16.939506Z"
    }
   },
   "outputs": [],
   "source": [
    "player_1 = {'player_id': 1,\n",
    "                 'player_name': None,\n",
    "                 'time_played': 0.0, \n",
    "                 'player_pokemon': {},\n",
    "                 'gyms_visited': []}                "
   ]
  },
  {
   "cell_type": "markdown",
   "metadata": {},
   "source": [
    "### B) Create a `dict` to house your dataset of players.\n",
    "\n",
    "* Because only `player_1` exists, there should only be one `key:value` pair. \n",
    "* The `keys` of this `dict` should be the `player_id`, and the `values` should be the dictionaries with single-player info, including the `player_id` (slightly redundant).\n",
    "* Use the `display` function imported above to display `poke_players`."
   ]
  },
  {
   "cell_type": "code",
   "execution_count": 59,
   "metadata": {
    "ExecuteTime": {
     "end_time": "2018-04-24T21:45:17.321829Z",
     "start_time": "2018-04-24T21:45:17.311491Z"
    }
   },
   "outputs": [
    {
     "data": {
      "text/plain": [
       "{1: {'player_id': 1,\n",
       "  'player_name': None,\n",
       "  'time_played': 0.0,\n",
       "  'player_pokemon': {},\n",
       "  'gyms_visited': []}}"
      ]
     },
     "metadata": {},
     "output_type": "display_data"
    }
   ],
   "source": [
    "poke_players = {1:player_1}\n",
    "\n",
    "display(poke_players)"
   ]
  },
  {
   "cell_type": "markdown",
   "metadata": {},
   "source": [
    "### C) Update player 1's info with your own.\n",
    "\n",
    "* By indexing your `poke_players` dictionary, update the `player_name` field to your own name.\n",
    "* `display` your `poke_players` dict to check your work."
   ]
  },
  {
   "cell_type": "code",
   "execution_count": 62,
   "metadata": {
    "ExecuteTime": {
     "end_time": "2018-04-24T21:45:17.636984Z",
     "start_time": "2018-04-24T21:45:17.627658Z"
    },
    "scrolled": true
   },
   "outputs": [
    {
     "data": {
      "text/plain": [
       "{1: {'player_id': 1,\n",
       "  'player_name': 'James',\n",
       "  'time_played': 0.0,\n",
       "  'player_pokemon': {},\n",
       "  'gyms_visited': []}}"
      ]
     },
     "metadata": {},
     "output_type": "display_data"
    }
   ],
   "source": [
    "# Your code here\n",
    "poke_players[1][\"player_name\"] = \"James\"\n",
    "\n",
    "display(poke_players)\n",
    "\n",
    "### D) Define a function that adds a player to `poke_players`.\n",
    "\n",
    "#### Your functions should...\n",
    "\n",
    "#* Take arguments for `players_dict`, `player_id`, and `player_name`.\n",
    "#* Create a player with the above values and populate the `gyms_visited`, `player_pokemon`, and `time_played` accordingly.\n",
    "#* Returns the name of the player added.\n",
    "#* Add a second player to the `players` dictionary. The id should be 2, but the name is up to you!\n",
    "#* Display your `poke_players` to check your work."
   ]
  },
  {
   "cell_type": "markdown",
   "metadata": {},
   "source": [
    "### D) Define a function that adds a player to `poke_players`.\n",
    "\n",
    "Your functions should...\n",
    "\n",
    "* Take arguments for `players_dict`, `player_id`, and `player_name`.\n",
    "* Create a player with the above values and populate the `gyms_visited`, `player_pokemon`, and `time_played` accordingly.\n",
    "* Returns the name of the player added.\n",
    "* Add a second player to the `players` dictionary. The id should be 2, but the name is up to you!\n",
    "* Display your `poke_players` to check your work."
   ]
  },
  {
   "cell_type": "code",
   "execution_count": 64,
   "metadata": {
    "ExecuteTime": {
     "end_time": "2018-04-24T21:45:18.005291Z",
     "start_time": "2018-04-24T21:45:17.987025Z"
    }
   },
   "outputs": [
    {
     "name": "stdout",
     "output_type": "stream",
     "text": [
      "Marcela added!\n"
     ]
    },
    {
     "data": {
      "text/plain": [
       "{1: {'player_id': 1,\n",
       "  'player_name': 'James',\n",
       "  'time_played': 0.0,\n",
       "  'player_pokemon': {},\n",
       "  'gyms_visited': []},\n",
       " 2: {'player_id': 2,\n",
       "  'player_name': 'Marcela',\n",
       "  'time_played': 0.0,\n",
       "  'player_pokeman': {},\n",
       "  'gyms_visited': []}}"
      ]
     },
     "execution_count": 64,
     "metadata": {},
     "output_type": "execute_result"
    }
   ],
   "source": [
    "def add_player(players_dict, player_id, player_name):\n",
    "    new_player = {\n",
    "        \"player_id\":player_id,\n",
    "        \"player_name\": player_name,\n",
    "        \"time_played\":0.0,\n",
    "        \"player_pokeman\":{},\n",
    "        \"gyms_visited\":[]}\n",
    "    \n",
    "    players_dict[new_player['player_id']]=new_player\n",
    "    \n",
    "    print(\"{} added!\".format(new_player[\"player_name\"]))\n",
    "    \n",
    "add_player(poke_players,2,\"Marcela\")  \n",
    "poke_players"
   ]
  },
  {
   "cell_type": "markdown",
   "metadata": {},
   "source": [
    "<img src=\"http://imgur.com/l5NasQj.png\" style=\"float: left; margin: 25px 15px 0px 0px; height: 25px\">\n",
    "\n",
    "## 2. Defining \"gym\" locations\n",
    "\n",
    "---\n",
    "\n",
    "As the sole programmer, Pokemon Stay will have to start small. To begin, there will be 10 different gym location websites on the internet. The gym locations are:\n",
    "\n",
    "    1. 'reddit.com'\n",
    "    2. 'amazon.com'\n",
    "    3. 'twitter.com'\n",
    "    4. 'linkedin.com'\n",
    "    5. 'ebay.com'\n",
    "    6. 'netflix.com'\n",
    "    7. 'stackoverflow.com'\n",
    "    8. 'github.com'\n",
    "    9. 'quora.com'\n",
    "    10. 'google.com'\n",
    "\n",
    "* Set up a list of all the gym locations. This will be a list of strings. Print the list to check your work.\n",
    "* For each player in `poke_players`, use `sample` (imported from `random` below) to randomly select 2 gyms and add these gyms to the `gyms_visited` field.\n",
    "* Display the `poke_players` dict to check your work."
   ]
  },
  {
   "cell_type": "code",
   "execution_count": 65,
   "metadata": {
    "ExecuteTime": {
     "end_time": "2018-04-24T21:45:18.975825Z",
     "start_time": "2018-04-24T21:45:18.970328Z"
    }
   },
   "outputs": [],
   "source": [
    "locations_raw =  \"1. 'reddit.com' \\\n",
    "    2. 'amazon.com' \\\n",
    "    3. 'twitter.com' \\\n",
    "    4. 'linkedin.com' \\\n",
    "    5. 'ebay.com' \\\n",
    "    6. 'netflix.com' \\\n",
    "    7. 'stackoverflow.com' \\\n",
    "    8. 'github.com' \\\n",
    "    9. 'quora.com' \\\n",
    "    10. 'google.com'\"\n",
    "gyms = locations_raw.split('\\'')[1::2]"
   ]
  },
  {
   "cell_type": "code",
   "execution_count": 66,
   "metadata": {
    "ExecuteTime": {
     "end_time": "2018-04-24T21:45:20.091938Z",
     "start_time": "2018-04-24T21:45:20.086788Z"
    }
   },
   "outputs": [],
   "source": [
    "from random import sample"
   ]
  },
  {
   "cell_type": "code",
   "execution_count": 67,
   "metadata": {},
   "outputs": [
    {
     "data": {
      "text/plain": [
       "['reddit.com',\n",
       " 'amazon.com',\n",
       " 'twitter.com',\n",
       " 'linkedin.com',\n",
       " 'ebay.com',\n",
       " 'netflix.com',\n",
       " 'stackoverflow.com',\n",
       " 'github.com',\n",
       " 'quora.com',\n",
       " 'google.com']"
      ]
     },
     "execution_count": 67,
     "metadata": {},
     "output_type": "execute_result"
    }
   ],
   "source": [
    "gyms"
   ]
  },
  {
   "cell_type": "code",
   "execution_count": 71,
   "metadata": {
    "ExecuteTime": {
     "end_time": "2018-04-24T21:45:20.108129Z",
     "start_time": "2018-04-24T21:45:20.097899Z"
    }
   },
   "outputs": [
    {
     "data": {
      "text/plain": [
       "[0.8, 1, 'apple']"
      ]
     },
     "execution_count": 71,
     "metadata": {},
     "output_type": "execute_result"
    }
   ],
   "source": [
    "# Run this cell a few times to understand sample. Play around with the function!\n",
    "this_list = ['apple', 1, ('a','b','c'), 0.8]\n",
    "sample(this_list, 3)"
   ]
  },
  {
   "cell_type": "code",
   "execution_count": 11,
   "metadata": {
    "ExecuteTime": {
     "end_time": "2018-04-24T21:19:38.348825Z",
     "start_time": "2018-04-24T21:19:38.344521Z"
    }
   },
   "outputs": [],
   "source": [
    "#gyms = None"
   ]
  },
  {
   "cell_type": "code",
   "execution_count": 72,
   "metadata": {
    "ExecuteTime": {
     "end_time": "2018-04-24T21:45:20.120727Z",
     "start_time": "2018-04-24T21:45:20.111531Z"
    }
   },
   "outputs": [
    {
     "data": {
      "text/plain": [
       "dict_keys([1, 2])"
      ]
     },
     "execution_count": 72,
     "metadata": {},
     "output_type": "execute_result"
    }
   ],
   "source": [
    "poke_players.keys()"
   ]
  },
  {
   "cell_type": "code",
   "execution_count": 54,
   "metadata": {
    "ExecuteTime": {
     "end_time": "2018-04-24T21:45:20.262223Z",
     "start_time": "2018-04-24T21:45:20.245694Z"
    }
   },
   "outputs": [
    {
     "data": {
      "text/plain": [
       "{1: {'player_id': 1,\n",
       "  'player_name': 'James',\n",
       "  'time_played': 0.0,\n",
       "  'player_pokemon': {},\n",
       "  'gyms_visited': ['stackoverflow.com',\n",
       "   'amazon.com',\n",
       "   'ebay.com',\n",
       "   'reddit.com'],\n",
       "  'l': {'poke_id': 1,\n",
       "   'poke_name': 'charmander',\n",
       "   'poke_type': 'fire',\n",
       "   'hp': 451,\n",
       "   'attack': 78,\n",
       "   'defense': 64,\n",
       "   'special_attack': 142,\n",
       "   'special_defense': 107,\n",
       "   'speed': 60}},\n",
       " 2: {'player_id': 2,\n",
       "  'player_name': 'Marcela',\n",
       "  'time_played': 0.0,\n",
       "  'player_pokeman': {},\n",
       "  'gyms_visited': ['amazon.com', 'quora.com']}}"
      ]
     },
     "execution_count": 54,
     "metadata": {},
     "output_type": "execute_result"
    }
   ],
   "source": [
    "for player_id in poke_players:\n",
    "    poke_players[player_id]['gyms_visited'].extend(sample(gyms, 2))\n",
    "    \n",
    "poke_players"
   ]
  },
  {
   "cell_type": "markdown",
   "metadata": {},
   "source": [
    "<img src=\"http://imgur.com/l5NasQj.png\" style=\"float: left; margin: 25px 15px 0px 0px; height: 25px\">\n",
    "\n",
    "## 3. Create a pokedex\n",
    "\n",
    "---\n",
    "\n",
    "We also need to create some pokemon to catch! Let's store the attributes of each pokemon in a `dictionary`, since each pokemon has many charactaristics we'd like to store.\n",
    "\n",
    "\n",
    "Each pokemon will be defined by these variables:\n",
    "\n",
    "    poke_id : unique identifier for each pokemon (integer, sequential)\n",
    "    poke_name : the name of the pokemon (string)\n",
    "    poke_type : the category of pokemon (string)\n",
    "    hp : base hitpoints (integer between 400 and 500)\n",
    "    attack : base attack (integer between 50 and 100)\n",
    "    defense : base defense (integer between 50 and 100)\n",
    "    special_attack : base special attack (integer between 100 and 150)\n",
    "    special_defense : base sepecial defense (integer between 100 and 150)\n",
    "    speed : base speed (integer between 0 and 100)"
   ]
  },
  {
   "cell_type": "markdown",
   "metadata": {},
   "source": [
    "### A) Create a function called `create_pokemon`\n",
    "\n",
    "* The function should take arguments for `poke_id`, `poke_name`, and `poke_type`.\n",
    "* Use `np.random.randint` to generate values for the numeric attributes based on the conditions above. If you're not clear on how this function works, there is a cell below with an example. Play around with it!\n",
    "* The function should return a `dict` for the pokemon.\n",
    "* Without assigning it to a variable, check the function's output by calling it with the following arguments:\n",
    "  * `poke_id = 1`\n",
    "  * `poke_name = 'charmander'`\n",
    "  * `poke_type = 'fire'`"
   ]
  },
  {
   "cell_type": "code",
   "execution_count": 73,
   "metadata": {
    "ExecuteTime": {
     "end_time": "2018-04-24T21:51:18.744493Z",
     "start_time": "2018-04-24T21:51:18.524167Z"
    }
   },
   "outputs": [],
   "source": [
    "import numpy as np"
   ]
  },
  {
   "cell_type": "code",
   "execution_count": 74,
   "metadata": {
    "ExecuteTime": {
     "end_time": "2018-04-24T21:19:38.597059Z",
     "start_time": "2018-04-24T21:19:38.584369Z"
    }
   },
   "outputs": [
    {
     "data": {
      "text/plain": [
       "6"
      ]
     },
     "execution_count": 74,
     "metadata": {},
     "output_type": "execute_result"
    }
   ],
   "source": [
    "# Play around with this cell to understand np.random.randint!\n",
    "\n",
    "np.random.randint(0,10)"
   ]
  },
  {
   "cell_type": "code",
   "execution_count": 75,
   "metadata": {
    "ExecuteTime": {
     "end_time": "2018-04-24T22:02:38.658901Z",
     "start_time": "2018-04-24T22:02:38.639508Z"
    }
   },
   "outputs": [],
   "source": [
    "def create_pokemon(poke_id, poke_name, poke_type):\n",
    "    hp           = np.random.randint(400,501)\n",
    "    attack       = np.random.randint(50,101)\n",
    "    defense      = np.random.randint(50,101)\n",
    "    spec_attack  = np.random.randint(100,151)\n",
    "    spec_defense = np.random.randint(100,151)\n",
    "    speed        = np.random.randint(0,101)\n",
    "    return {'poke_id':poke_id, 'poke_name':poke_name, 'poke_type':poke_type,\n",
    "           'hp':hp, 'attack':attack, 'defense':defense,\n",
    "            'special_attack':spec_attack, 'special_defense':spec_defense,\n",
    "           'speed':speed}\n"
   ]
  },
  {
   "cell_type": "markdown",
   "metadata": {},
   "source": [
    "### B) Populate the `pokedex`!\n",
    "\n",
    "Now we need some pokemon to catch. Let's create a dictionary to store the information!\n",
    "\n",
    "* Instantiate an empyt dictionary called `pokedex`.\n",
    "* Define a function called `create_and_add_to_pokedex`. This function should...\n",
    "  * Take arguments for `pokedex`,  `poke_id`, `poke_name`, and `poke_type`.\n",
    "  * Uses the `create_pokemon` function you created earlier to create a pokemon using the provided `poke_id`, `poke_name`, and `poke_type`.\n",
    "  * Add a new `key:value` pair to the `pokedex` dictionary where:\n",
    "    * the `key` is the `poke_id`, and\n",
    "    * the `value` is the newly-created pokemon dict, including the `poke_id` (this is slightly redundant, but that's ok!)\n",
    "  * Prints the name of the pokemon added to the pokedex using `str.format()`\n",
    "* Add the following 3 pokemon to your `pokedex` using `create_and_add_to_pokedex`:\n",
    "\n",
    "|Id|Name|Type|\n",
    "|---|---|---|\n",
    "|1|charmander|fire|\n",
    "|2|squirtle|water|\n",
    "|3|bulasaur|poison|\n",
    "\n",
    "Display your `pokedex` to check your work. It should look something like...\n",
    "\n",
    "```python\n",
    "{1: {'attack': 64,\n",
    "  'defense': 59,\n",
    "  'hp': 495,\n",
    "  'poke_id': 1,\n",
    "  'poke_name': 'charmander',\n",
    "  'poke_type': 'fire',\n",
    "  'special_attack': 100,\n",
    "  ...\n",
    "```"
   ]
  },
  {
   "cell_type": "code",
   "execution_count": 76,
   "metadata": {
    "ExecuteTime": {
     "end_time": "2018-04-24T21:19:38.649693Z",
     "start_time": "2018-04-24T21:19:38.642507Z"
    }
   },
   "outputs": [],
   "source": [
    "pokedex = {}\n",
    "def create_and_add_to_pokedex(pokedex, poke_id, poke_name, poke_type):\n",
    "    new_poke = create_pokemon(poke_id, poke_name, poke_type)\n",
    "    pokedex[new_poke['poke_id']]=new_poke\n",
    "    return\n",
    "\n",
    "\n"
   ]
  },
  {
   "cell_type": "code",
   "execution_count": 77,
   "metadata": {},
   "outputs": [],
   "source": [
    "create_and_add_to_pokedex(pokedex, 1, \"charmander\", \"fire\")"
   ]
  },
  {
   "cell_type": "code",
   "execution_count": 78,
   "metadata": {},
   "outputs": [],
   "source": [
    "create_and_add_to_pokedex(pokedex, 3, \"bulasaur\", \"poison\")\n",
    "create_and_add_to_pokedex(pokedex, 2, \"squirtle\", \"water\")"
   ]
  },
  {
   "cell_type": "code",
   "execution_count": 79,
   "metadata": {},
   "outputs": [
    {
     "data": {
      "text/plain": [
       "{1: {'poke_id': 1,\n",
       "  'poke_name': 'charmander',\n",
       "  'poke_type': 'fire',\n",
       "  'hp': 451,\n",
       "  'attack': 78,\n",
       "  'defense': 64,\n",
       "  'special_attack': 142,\n",
       "  'special_defense': 107,\n",
       "  'speed': 60},\n",
       " 3: {'poke_id': 3,\n",
       "  'poke_name': 'bulasaur',\n",
       "  'poke_type': 'poison',\n",
       "  'hp': 420,\n",
       "  'attack': 88,\n",
       "  'defense': 68,\n",
       "  'special_attack': 122,\n",
       "  'special_defense': 110,\n",
       "  'speed': 74},\n",
       " 2: {'poke_id': 2,\n",
       "  'poke_name': 'squirtle',\n",
       "  'poke_type': 'water',\n",
       "  'hp': 487,\n",
       "  'attack': 85,\n",
       "  'defense': 89,\n",
       "  'special_attack': 123,\n",
       "  'special_defense': 102,\n",
       "  'speed': 21}}"
      ]
     },
     "execution_count": 79,
     "metadata": {},
     "output_type": "execute_result"
    }
   ],
   "source": [
    "pokedex"
   ]
  },
  {
   "cell_type": "markdown",
   "metadata": {},
   "source": [
    "<img src=\"http://imgur.com/l5NasQj.png\" style=\"float: left; margin: 25px 15px 0px 0px; height: 25px\">\n",
    "\n",
    "## 4. Let's capture some pokemon!\n",
    "\n",
    "---\n",
    "\n",
    "The `'player_pokemon'` keyed dictionaries for each player keep track of which of the pokemon each player has.\n",
    "\n",
    "The keys of the `'player_pokemon'` dictionaries are the pokemon ids that correspond to the ids in the `pokedex` dictionary you created earlier, and the values are the individual pokemon dicts. Just like your `pokedex`, but for each player individually!\n",
    "\n",
    "* Define a function called `add_pokemon_to_player` that...\n",
    "  * Takes arguents for `player_id`, `poke_id`, `player_dict`, and `pokedex`.\n",
    "    * You may set the default `player_dict` to `poke_players` and the default `pokedex` to the external variable `pokedex`\n",
    "  * Adds the desired pokemon to the `player_pokemon` field of the specified player\n",
    "  * Prints which pokemon was added to which player.\n",
    "* Use your function to add squirtle to player 1, and add charmander and bulbasaur to player 2\n",
    "* Display your `poke_players` to check your work."
   ]
  },
  {
   "cell_type": "code",
   "execution_count": 80,
   "metadata": {},
   "outputs": [
    {
     "data": {
      "text/plain": [
       "{1: {'player_id': 1,\n",
       "  'player_name': 'James',\n",
       "  'time_played': 0.0,\n",
       "  'player_pokemon': {},\n",
       "  'gyms_visited': []},\n",
       " 2: {'player_id': 2,\n",
       "  'player_name': 'Marcela',\n",
       "  'time_played': 0.0,\n",
       "  'player_pokeman': {},\n",
       "  'gyms_visited': []}}"
      ]
     },
     "execution_count": 80,
     "metadata": {},
     "output_type": "execute_result"
    }
   ],
   "source": [
    "poke_players\n"
   ]
  },
  {
   "cell_type": "code",
   "execution_count": 81,
   "metadata": {},
   "outputs": [
    {
     "data": {
      "text/plain": [
       "{1: {'poke_id': 1,\n",
       "  'poke_name': 'charmander',\n",
       "  'poke_type': 'fire',\n",
       "  'hp': 451,\n",
       "  'attack': 78,\n",
       "  'defense': 64,\n",
       "  'special_attack': 142,\n",
       "  'special_defense': 107,\n",
       "  'speed': 60},\n",
       " 3: {'poke_id': 3,\n",
       "  'poke_name': 'bulasaur',\n",
       "  'poke_type': 'poison',\n",
       "  'hp': 420,\n",
       "  'attack': 88,\n",
       "  'defense': 68,\n",
       "  'special_attack': 122,\n",
       "  'special_defense': 110,\n",
       "  'speed': 74},\n",
       " 2: {'poke_id': 2,\n",
       "  'poke_name': 'squirtle',\n",
       "  'poke_type': 'water',\n",
       "  'hp': 487,\n",
       "  'attack': 85,\n",
       "  'defense': 89,\n",
       "  'special_attack': 123,\n",
       "  'special_defense': 102,\n",
       "  'speed': 21}}"
      ]
     },
     "execution_count": 81,
     "metadata": {},
     "output_type": "execute_result"
    }
   ],
   "source": [
    "pokedex\n"
   ]
  },
  {
   "cell_type": "code",
   "execution_count": 82,
   "metadata": {},
   "outputs": [],
   "source": [
    "def add_pokemon_to_player(player_id, poke_id, player_dict = poke_players, pokedex = pokedex):\n",
    "    player_dict[player_id]['player_pokemon'[poke_id]] = pokedex[poke_id]\n",
    "    print(\"Added {} to {}'s pokemon!\".format(pokedex[poke_id]['poke_name'], player_dict[player_id]['player_name']))"
   ]
  },
  {
   "cell_type": "code",
   "execution_count": 83,
   "metadata": {},
   "outputs": [
    {
     "name": "stdout",
     "output_type": "stream",
     "text": [
      "Added bulasaur to Marcela's pokemon!\n"
     ]
    }
   ],
   "source": [
    "add_pokemon_to_player(2, 3, player_dict = poke_players, pokedex = pokedex)"
   ]
  },
  {
   "cell_type": "code",
   "execution_count": 84,
   "metadata": {
    "scrolled": true
   },
   "outputs": [
    {
     "data": {
      "text/plain": [
       "{1: {'player_id': 1,\n",
       "  'player_name': 'James',\n",
       "  'time_played': 0.0,\n",
       "  'player_pokemon': {},\n",
       "  'gyms_visited': []},\n",
       " 2: {'player_id': 2,\n",
       "  'player_name': 'Marcela',\n",
       "  'time_played': 0.0,\n",
       "  'player_pokeman': {},\n",
       "  'gyms_visited': [],\n",
       "  'y': {'poke_id': 3,\n",
       "   'poke_name': 'bulasaur',\n",
       "   'poke_type': 'poison',\n",
       "   'hp': 420,\n",
       "   'attack': 88,\n",
       "   'defense': 68,\n",
       "   'special_attack': 122,\n",
       "   'special_defense': 110,\n",
       "   'speed': 74}}}"
      ]
     },
     "execution_count": 84,
     "metadata": {},
     "output_type": "execute_result"
    }
   ],
   "source": [
    "poke_players"
   ]
  },
  {
   "cell_type": "code",
   "execution_count": 85,
   "metadata": {},
   "outputs": [
    {
     "name": "stdout",
     "output_type": "stream",
     "text": [
      "Added charmander to James's pokemon!\n"
     ]
    }
   ],
   "source": [
    "add_pokemon_to_player(1, 1,player_dict = poke_players, pokedex = pokedex)"
   ]
  },
  {
   "cell_type": "markdown",
   "metadata": {},
   "source": [
    "\n",
    "\n",
    "## 5. What gyms have players visited?\n",
    "\n",
    "---\n",
    "<img src=\"http://imgur.com/l5NasQj.png\" style=\"float: left; margin: 25px 15px 0px 0px; height: 25px\">\n",
    "\n",
    "### A) Checking gyms\n",
    "\n",
    "Write a for-loop that:\n",
    "\n",
    "1. Iterates through the `pokemon_gyms` list of gym locations you defined before.\n",
    "2. For each gym, iterate through each player in the `players` dictionary with a second, internal for-loop.\n",
    "3. If the player has visited the gym, print out \"[player] has visited [gym location].\", filling in [player] and [gym location] with the current player's name and current gym location."
   ]
  },
  {
   "cell_type": "code",
   "execution_count": 86,
   "metadata": {},
   "outputs": [],
   "source": [
    "pokemon_gyms=gyms\n",
    "for i in pokemon_gyms:\n",
    "    for player, values in poke_players.items():\n",
    "        if i in values['gyms_visited']:\n",
    "            print(\"{} visited {}\".format(values['player_name'],values['gyms_visited'])) "
   ]
  },
  {
   "cell_type": "code",
   "execution_count": 87,
   "metadata": {},
   "outputs": [
    {
     "data": {
      "text/plain": [
       "{1: {'player_id': 1,\n",
       "  'player_name': 'James',\n",
       "  'time_played': 0.0,\n",
       "  'player_pokemon': {},\n",
       "  'gyms_visited': [],\n",
       "  'l': {'poke_id': 1,\n",
       "   'poke_name': 'charmander',\n",
       "   'poke_type': 'fire',\n",
       "   'hp': 451,\n",
       "   'attack': 78,\n",
       "   'defense': 64,\n",
       "   'special_attack': 142,\n",
       "   'special_defense': 107,\n",
       "   'speed': 60}},\n",
       " 2: {'player_id': 2,\n",
       "  'player_name': 'Marcela',\n",
       "  'time_played': 0.0,\n",
       "  'player_pokeman': {},\n",
       "  'gyms_visited': [],\n",
       "  'y': {'poke_id': 3,\n",
       "   'poke_name': 'bulasaur',\n",
       "   'poke_type': 'poison',\n",
       "   'hp': 420,\n",
       "   'attack': 88,\n",
       "   'defense': 68,\n",
       "   'special_attack': 122,\n",
       "   'special_defense': 110,\n",
       "   'speed': 74}}}"
      ]
     },
     "execution_count": 87,
     "metadata": {},
     "output_type": "execute_result"
    }
   ],
   "source": [
    "poke_players"
   ]
  },
  {
   "cell_type": "code",
   "execution_count": 90,
   "metadata": {},
   "outputs": [],
   "source": [
    "pokemon_gyms=gyms\n",
    "for i in pokemon_gyms:\n",
    "    for player, values in poke_players.items():\n",
    "        if i in values['gyms_visited']:\n",
    "            print(\"{} visited {}\".format(values['player_name'],values['gyms_visited'])) "
   ]
  },
  {
   "cell_type": "code",
   "execution_count": 91,
   "metadata": {},
   "outputs": [],
   "source": [
    "pokemon_gyms=gyms\n",
    "for i in pokemon_gyms:\n",
    "    for player, values in poke_players.items():\n",
    "        if i in values['gyms_visited']:\n",
    "            print(\"{} visited {}\".format(values['player_name'], i)) "
   ]
  },
  {
   "cell_type": "code",
   "execution_count": 92,
   "metadata": {},
   "outputs": [
    {
     "data": {
      "text/plain": [
       "{1: {'player_id': 1,\n",
       "  'player_name': 'James',\n",
       "  'time_played': 0.0,\n",
       "  'player_pokemon': {},\n",
       "  'gyms_visited': [],\n",
       "  'l': {'poke_id': 1,\n",
       "   'poke_name': 'charmander',\n",
       "   'poke_type': 'fire',\n",
       "   'hp': 451,\n",
       "   'attack': 78,\n",
       "   'defense': 64,\n",
       "   'special_attack': 142,\n",
       "   'special_defense': 107,\n",
       "   'speed': 60}},\n",
       " 2: {'player_id': 2,\n",
       "  'player_name': 'Marcela',\n",
       "  'time_played': 0.0,\n",
       "  'player_pokeman': {},\n",
       "  'gyms_visited': [],\n",
       "  'y': {'poke_id': 3,\n",
       "   'poke_name': 'bulasaur',\n",
       "   'poke_type': 'poison',\n",
       "   'hp': 420,\n",
       "   'attack': 88,\n",
       "   'defense': 68,\n",
       "   'special_attack': 122,\n",
       "   'special_defense': 110,\n",
       "   'speed': 74}}}"
      ]
     },
     "execution_count": 92,
     "metadata": {},
     "output_type": "execute_result"
    }
   ],
   "source": [
    "poke_players"
   ]
  },
  {
   "cell_type": "markdown",
   "metadata": {},
   "source": [
    "<img src=\"http://imgur.com/xDpSobf.png\" style=\"float: left; margin: 25px 15px 0px 0px; height: 25px\">\n",
    "### B) Computational Complexity\n",
    "\n",
    "How many times did that loop run? If you have N gyms and also M players, how many times would it run as a function of N and M? \n",
    "\n",
    "(You can write your answer as Markdown text.)"
   ]
  },
  {
   "cell_type": "markdown",
   "metadata": {
    "collapsed": true
   },
   "source": [
    "$N \\text{ gyms x } M \\text{ players } = NxM$"
   ]
  },
  {
   "cell_type": "code",
   "execution_count": 93,
   "metadata": {},
   "outputs": [
    {
     "data": {
      "text/plain": [
       "4"
      ]
     },
     "execution_count": 93,
     "metadata": {},
     "output_type": "execute_result"
    }
   ],
   "source": [
    "2*2\n"
   ]
  },
  {
   "cell_type": "markdown",
   "metadata": {},
   "source": [
    "<img src=\"http://imgur.com/l5NasQj.png\" style=\"float: left; margin: 25px 15px 0px 0px; height: 25px\">\n",
    "\n",
    "## 6. Calculate player \"power\".\n",
    "\n",
    "---\n",
    "\n",
    "Define a function that will calculate a player's \"power\". Player power is defined as the sum of the base statistics all of their pokemon.\n",
    "\n",
    "$$\n",
    "\\text{player power } = \\sum_{i = 1}^{n}\\text{attack}_i + \\text{defense}_i + \\text{special attack}_i + \\text{special defense}_i\n",
    "$$\n",
    "\n",
    "Where $i$ is an individual pokemon in a player's `player_pokemon`. ($\\sum$ just means sum, so you're just adding up all the attributes listed above for all the pokemon in the player's `player_pokemon`).\n",
    "\n",
    "Your function should:\n",
    "\n",
    "*  Accept a `poke_players` dictionary and a `player_id` as arguments.\n",
    "*  For the specified player_id, look up that player's pokemon.\n",
    "*  Find and aggregate the attack and defense values for each of the player's pokemon.\n",
    "*  Print \"[player name]'s power is [player power].\", where the player power is the sum of the base statistics for all of their pokemon.\n",
    "*  Return the player's power value.\n",
    "\n",
    "Check your work by displaying pokemon power for each of your players."
   ]
  },
  {
   "cell_type": "code",
   "execution_count": 94,
   "metadata": {
    "ExecuteTime": {
     "end_time": "2018-04-24T21:19:38.677699Z",
     "start_time": "2018-04-24T21:19:38.672282Z"
    }
   },
   "outputs": [],
   "source": [
    "def get_power(player_id, player_dict = poke_players):\n",
    "    pass"
   ]
  },
  {
   "cell_type": "markdown",
   "metadata": {
    "collapsed": true
   },
   "source": [
    "<img src=\"http://imgur.com/l5NasQj.png\" style=\"float: left; margin: 25px 15px 0px 0px; height: 25px\">\n",
    "\n",
    "## 7. Load a pokedex file containing all the pokemon\n",
    "\n",
    "---\n",
    "\n",
    "### Load data using the `with open()` method.\n",
    "\n",
    "While you were putting together the prototype code, your colleagues were preparing a dataset of Pokemon and their attributes (This was a rush job, so they may have picked some crazy values for some...). Your task is to load the data into a list of lists so you can manipulate it.\n",
    "\n",
    "* The `type` of the data should be a `list`\n",
    "  * The `type` of each element in that list should be a `list`\n",
    "    * The `type` of each element in the sub-list should be `str` or `float`.\n",
    "\n",
    "The code provided loads the data into one looooong `str`. To get it into the correct format:\n",
    "* Use `your_string.replace()` to remove `\"`, where `your_string` is any object of type `str`. \n",
    "* Use `your_string.split()` to create a new row for each line. New lines are denoted with a `'\\n'`.\n",
    "* Iterate through your data. Use `try/except` to cast numeric data as type `float`. \n",
    "\n",
    "Your end result is effectively a matrix. Each list $i$ in the outer list is a row, and the $j$th elements of list together form the *j*th column, which represents a data attribute. The first three lists in your pokedex list should look like this:\n",
    "\n",
    "    ['PokedexNumber', 'Name', 'Type', 'Total', 'HP', 'Attack', 'Defense', 'SpecialAttack', 'SpecialDefense', 'Speed']\n",
    "    [1.0, 'Bulbasaur', 'GrassPoison', 318.0, 45.0, 49.0, 49.0, 65.0, 65.0, 45.0]\n",
    "    [2.0, 'Ivysaur', 'GrassPoison', 405.0, 60.0, 62.0, 63.0, 80.0, 80.0, 60.0]\n",
    "    \n",
    "**WARNING:** Don't print or display your entire new pokedex! Viewing that many entries will clog up your notebook and make it difficult to read."
   ]
  },
  {
   "cell_type": "code",
   "execution_count": 95,
   "metadata": {
    "ExecuteTime": {
     "end_time": "2018-04-24T21:19:38.689904Z",
     "start_time": "2018-04-24T21:19:38.680706Z"
    }
   },
   "outputs": [],
   "source": [
    "# Code to read in pokedex info\n",
    "raw_pd = ''\n",
    "pokedex_file = 'pokedex_basic.csv'\n",
    "with open(pokedex_file, 'r') as f:\n",
    "    raw_pd = f.read()\n",
    "    \n",
    "# the pokedex string is assigned to the raw_pd variable"
   ]
  },
  {
   "cell_type": "code",
   "execution_count": 96,
   "metadata": {
    "ExecuteTime": {
     "end_time": "2018-04-24T21:19:38.703916Z",
     "start_time": "2018-04-24T21:19:38.693399Z"
    }
   },
   "outputs": [
    {
     "name": "stdout",
     "output_type": "stream",
     "text": [
      "['PokedexNumber,Name,Type,Total,HP,Attack,Defense,SpecialAttack,SpecialDefense,Speed', '001,Bulbasaur,GrassPoison,318,45,49,49,65,65,45', '002,Ivysaur,GrassPoison,405,60,62,63,80,80,60', '003,Venusaur,GrassPoison,525,80,82,83,100,100,80', '003,VenusaurMega Venusaur,GrassPoison,625,80,100,123,122,120,80']\n",
      "[['PokedexNumber', 'Name', 'Type', 'Total', 'HP', 'Attack', 'Defense', 'SpecialAttack', 'SpecialDefense', 'Speed'], ['001', 'Bulbasaur', 'GrassPoison', '318', '45', '49', '49', '65', '65', '45'], ['002', 'Ivysaur', 'GrassPoison', '405', '60', '62', '63', '80', '80', '60'], ['003', 'Venusaur', 'GrassPoison', '525', '80', '82', '83', '100', '100', '80'], ['003', 'VenusaurMega Venusaur', 'GrassPoison', '625', '80', '100', '123', '122', '120', '80']]\n"
     ]
    }
   ],
   "source": [
    "new_pd = []\n",
    "# Your code here\n",
    "data = raw_pd.replace('\"','').split('\\n')\n",
    "print(data[:5])\n",
    "for i in data:\n",
    "    new_pd.append(i.split(','))\n",
    "    \n",
    "print(new_pd[:5]) \n",
    "\n",
    "# converts numeric values from strings to floats from the sollution code\n",
    "for i, line in enumerate(new_pd): # i == each record/row\n",
    "    for j, item in enumerate(line): # j == individual value in each record.\n",
    "        try:\n",
    "            new_pd[i][j] = float(item) # \n",
    "        except:\n",
    "            pass"
   ]
  },
  {
   "cell_type": "markdown",
   "metadata": {},
   "source": [
    "<img src=\"http://imgur.com/xDpSobf.png\" style=\"float: left; margin: 25px 15px 0px 0px; height: 25px\">\n",
    "\n",
    "## 8. Changing Types\n",
    "\n",
    "---\n",
    "\n",
    "### A) Convert your data into a dictionary.\n",
    "\n",
    "Your `dict` should...\n",
    "* have `keys` of the new `pokedex` as the `PokedexNumber`\n",
    "* have `values` containing data for each pokemon in a dictionary form, just like our `pokedex` from before\n",
    "  * Keep in mind, the `keys` here are a little bit different than the original `pokedex`.\n",
    "  * Be careful of the header, you do not want to include that as a pokemon.\n",
    "* **WARNING:** Don't display your entire `pokedex` when turning this in! Viewing that many entries will clog up your notebook and make it difficult to read. If youd like to visualize your `pokedex`, index with a few of its `keys`.\n",
    "\n",
    "Your `new_pd_dict` should be organized like...\n",
    "\n",
    "```python\n",
    "{1.0: {'Attack': 49.0,\n",
    "  'Defense': 49.0,\n",
    "  'HP': 45.0,\n",
    "  'Name': 'Bulbasaur',\n",
    "  'PokedexNumber': 1.0,\n",
    "  'SpecialAttack': 65.0,\n",
    "  'SpecialDefense': 65.0,\n",
    "  'Speed': 45.0,\n",
    "  'Total': 318.0,\n",
    "  'Type': 'GrassPoison'},\n",
    " 2.0: {'Attack': 62.0,\n",
    "  'Defense': 63.0,\n",
    "  'HP': 60.0,\n",
    "  'Name': 'Ivysaur',\n",
    "```"
   ]
  },
  {
   "cell_type": "code",
   "execution_count": 36,
   "metadata": {
    "ExecuteTime": {
     "end_time": "2018-04-24T21:19:38.710976Z",
     "start_time": "2018-04-24T21:19:38.706925Z"
    }
   },
   "outputs": [],
   "source": [
    "# Your code here\n"
   ]
  },
  {
   "cell_type": "markdown",
   "metadata": {},
   "source": [
    "### B) Orient your `new_pd_dict` by columns.\n",
    "\n",
    "Your new pokedex is oriented by index, meaning that each entry is a row value. Your goal in this exercise is to orient the pokedex dict by columns, meaning:\n",
    "\n",
    "* The keys of the dictionary are the column names\n",
    "* The values of the dictionary are a **column vector** of that feature.\n",
    "* **HINT:** Read documentation on `defaultdict` (`from collections import defaultdict`), this may help!\n",
    "* **BONUS:** Do this with list and/or dictionary comprehensions only"
   ]
  },
  {
   "cell_type": "code",
   "execution_count": 97,
   "metadata": {
    "ExecuteTime": {
     "end_time": "2018-04-24T21:19:38.718724Z",
     "start_time": "2018-04-24T21:19:38.714664Z"
    }
   },
   "outputs": [],
   "source": [
    "from collections import defaultdict"
   ]
  },
  {
   "cell_type": "code",
   "execution_count": 38,
   "metadata": {
    "ExecuteTime": {
     "end_time": "2018-04-24T21:19:38.730341Z",
     "start_time": "2018-04-24T21:19:38.721731Z"
    }
   },
   "outputs": [],
   "source": [
    "# Your code here"
   ]
  },
  {
   "cell_type": "markdown",
   "metadata": {},
   "source": [
    "<img src=\"http://i.imgur.com/GCAf1UX.png\" style=\"float: left; margin: 25px 15px 0px 0px; height: 25px\">\n",
    "\n",
    "## 9. Write a function to filter your pokedex!\n",
    "---\n",
    "\n",
    "Your goal in this exercise is to search your pokedex based on your own defined criteria! Build a function that...\n",
    "\n",
    "* Takes arguments of: \n",
    "  * a pokedex dict (can be either the row or column oriented dict, pick the one of your choice!)\n",
    "  * a `filter_options` dict (described below)\n",
    "* For parameters in your `filter_dict`, your function should return:\n",
    "  * pokemon that are >= (greater than or equal to) the value you passed in your `filter_dict` for that field for continuous values\n",
    "  * pokemon of that name or type for string values (equal)\n",
    "* Return a list of the individual pokemon dictionaries that meet your search criteia!\n",
    "\n",
    "Example:\n",
    "\n",
    "```python\n",
    "\n",
    "# Only filter based on parameters passed\n",
    "filter_options = {\n",
    "    'Attack':   25,\n",
    "    'Defense':  30,\n",
    "    'Type':     'Electric'\n",
    "}\n",
    "\n",
    "# Return records with attack >= 24, defense >= 30, and type == \"Electric\"\n",
    "# Also anticipate that other paramters can also be passed such as \"SpecialAttack\", \"Speed\", etc.\n",
    "filtered_pokedex(pokedex_data, filter=filter_options)\n",
    "\n",
    "# Example output:\n",
    "# [{'Attack': 30.0,\n",
    "#  'Defense': 50.0,\n",
    "#  'HP': 40.0,\n",
    "#  'Name': 'Voltorb',\n",
    "#  'SpecialAttack': 55.0,\n",
    "#  'SpecialDefense': 55.0,\n",
    "#  'Speed': 100.0,\n",
    "#  'Total': 330.0,\n",
    "#  'Type': 'Electric'},\n",
    "#  {'Attack': 30.0,\n",
    "#  'Defense': 33.0,\n",
    "#  'HP': 32.0,\n",
    "#  'Name': 'Pikachu',\n",
    "#  'SpecialAttack': 55.0,\n",
    "#  'SpecialDefense': 55.0,\n",
    "#  'Speed': 100.0,\n",
    "#  'Total': 330.0,\n",
    "#  'Type': 'Electric'},\n",
    "#  ... etc\n",
    "#  ]\n",
    "\n",
    "```\n",
    "\n"
   ]
  },
  {
   "cell_type": "code",
   "execution_count": 98,
   "metadata": {
    "ExecuteTime": {
     "end_time": "2018-04-24T21:19:38.738351Z",
     "start_time": "2018-04-24T21:19:38.734088Z"
    }
   },
   "outputs": [],
   "source": [
    "from collections import Counter"
   ]
  },
  {
   "cell_type": "code",
   "execution_count": 40,
   "metadata": {
    "ExecuteTime": {
     "end_time": "2018-04-24T21:19:38.746589Z",
     "start_time": "2018-04-24T21:19:38.741668Z"
    }
   },
   "outputs": [],
   "source": [
    "# Your code here"
   ]
  },
  {
   "cell_type": "markdown",
   "metadata": {
    "collapsed": true
   },
   "source": [
    "\n",
    "## 10. Descriptive statistics on the prototype pokedex\n",
    "\n",
    "<img src=\"http://imgur.com/l5NasQj.png\" style=\"float: left; margin: 25px 15px 0px 0px; height: 25px\">\n",
    "### A) What is the population mean and standard deviation of the \"Total\" attribute for all characters in the Pokedex?"
   ]
  },
  {
   "cell_type": "code",
   "execution_count": 99,
   "metadata": {
    "ExecuteTime": {
     "end_time": "2018-04-24T21:19:38.755160Z",
     "start_time": "2018-04-24T21:19:38.749681Z"
    }
   },
   "outputs": [],
   "source": [
    "import numpy as np"
   ]
  },
  {
   "cell_type": "code",
   "execution_count": 42,
   "metadata": {
    "ExecuteTime": {
     "end_time": "2018-04-24T21:19:38.766990Z",
     "start_time": "2018-04-24T21:19:38.758747Z"
    }
   },
   "outputs": [],
   "source": [
    "# Your code here"
   ]
  },
  {
   "cell_type": "markdown",
   "metadata": {},
   "source": [
    "<img src=\"http://imgur.com/l5NasQj.png\" style=\"float: left; margin: 25px 15px 0px 0px; height: 25px\">\n",
    "### B) Outlier detection part 1\n",
    "\n",
    "The game is no fun if the pokemon are wildly unbalanced! Are any pokemon \"overpowered\", which we'll define as having a \"Total\" more than 2.5 standard deviations from the population mean?"
   ]
  },
  {
   "cell_type": "code",
   "execution_count": 43,
   "metadata": {
    "ExecuteTime": {
     "end_time": "2018-04-24T21:19:38.779937Z",
     "start_time": "2018-04-24T21:19:38.770126Z"
    }
   },
   "outputs": [],
   "source": [
    "# Your code here"
   ]
  },
  {
   "cell_type": "markdown",
   "metadata": {},
   "source": [
    "<img src=\"http://imgur.com/l5NasQj.png\" style=\"float: left; margin: 25px 15px 0px 0px; height: 25px\">\n",
    "### C) Outlier detection part 2\n",
    "\n",
    "[Tukey's method for outline detection](https://en.wikipedia.org/wiki/Outlier#Tukey.27s_fences) states that anything more than 1.5 * the interquartile range above or below the median is an outlier. Find outliers using this method!"
   ]
  },
  {
   "cell_type": "code",
   "execution_count": 44,
   "metadata": {
    "ExecuteTime": {
     "end_time": "2018-04-24T21:19:38.787785Z",
     "start_time": "2018-04-24T21:19:38.782772Z"
    }
   },
   "outputs": [],
   "source": [
    "# Your code here"
   ]
  },
  {
   "cell_type": "markdown",
   "metadata": {
    "collapsed": true
   },
   "source": [
    "## 11. Distributions, Sampling, and Confidence Intervals\n",
    "\n",
    "Now that you've loaded your data and identified outliers, you'd like to understand your data as a whole. Use the 1.3 lesson as a guide to complete the following challenges. "
   ]
  },
  {
   "cell_type": "markdown",
   "metadata": {},
   "source": [
    "### A) Plot histograms for each of the numeric values. \n",
    "\n",
    "There are 7 numeric features (columns):\n",
    "```python\n",
    "numeric_columns = ['Attack','Defense','HP','Specia7 unlAttack','SpecialDefense','Speed','Total']\n",
    "```\n",
    "\n",
    "Using `matplotlib.pyplot` subplots, create a figure that:\n",
    "* displays a histogram of each feature\n",
    "* Use the column name as the title of each subplot"
   ]
  },
  {
   "cell_type": "code",
   "execution_count": 100,
   "metadata": {
    "ExecuteTime": {
     "end_time": "2018-04-24T21:19:42.226595Z",
     "start_time": "2018-04-24T21:19:38.790897Z"
    }
   },
   "outputs": [],
   "source": [
    "import matplotlib.pyplot as plt\n",
    "%matplotlib inline"
   ]
  },
  {
   "cell_type": "code",
   "execution_count": 46,
   "metadata": {
    "ExecuteTime": {
     "end_time": "2018-04-24T21:19:42.234700Z",
     "start_time": "2018-04-24T21:19:42.229962Z"
    }
   },
   "outputs": [],
   "source": [
    "# Your code here"
   ]
  },
  {
   "cell_type": "markdown",
   "metadata": {},
   "source": [
    "### B) Are any features normally distributed? What is the skew of each column?\n",
    "\n",
    "Use `scipy.stats.normaltest` and `scipy.stats.skew` to find if each feature is normally distributed and to find if each distribution is skewed positive or negative."
   ]
  },
  {
   "cell_type": "code",
   "execution_count": 101,
   "metadata": {
    "ExecuteTime": {
     "end_time": "2018-04-24T21:19:43.058888Z",
     "start_time": "2018-04-24T21:19:42.240152Z"
    }
   },
   "outputs": [],
   "source": [
    "from scipy.stats import normaltest, skew"
   ]
  },
  {
   "cell_type": "code",
   "execution_count": 48,
   "metadata": {
    "ExecuteTime": {
     "end_time": "2018-04-24T21:19:43.070340Z",
     "start_time": "2018-04-24T21:19:43.059892Z"
    }
   },
   "outputs": [],
   "source": [
    "# Your code here"
   ]
  },
  {
   "cell_type": "markdown",
   "metadata": {},
   "source": [
    "### C) Find the 90% confidence interval for the mean of each of the numeric columns\n",
    "\n",
    "* Like we did in the 1.3 lesson, create functions to sample your data and generate a confidence interval for the mean. \n",
    "* Use your functions to determine the 90% confidence interval for the mean of each column.\n",
    "* What is the interpretation of your confidence interval?"
   ]
  },
  {
   "cell_type": "code",
   "execution_count": 49,
   "metadata": {
    "ExecuteTime": {
     "end_time": "2018-04-24T21:19:43.078341Z",
     "start_time": "2018-04-24T21:19:43.073349Z"
    }
   },
   "outputs": [],
   "source": [
    "# Your code here"
   ]
  }
 ],
 "metadata": {
  "anaconda-cloud": {},
  "kernelspec": {
   "display_name": "Python 3",
   "language": "python",
   "name": "python3"
  },
  "language_info": {
   "codemirror_mode": {
    "name": "ipython",
    "version": 3
   },
   "file_extension": ".py",
   "mimetype": "text/x-python",
   "name": "python",
   "nbconvert_exporter": "python",
   "pygments_lexer": "ipython3",
   "version": "3.7.3"
  },
  "toc": {
   "base_numbering": 1,
   "nav_menu": {},
   "number_sections": true,
   "sideBar": true,
   "skip_h1_title": false,
   "title_cell": "Table of Contents",
   "title_sidebar": "Contents",
   "toc_cell": false,
   "toc_position": {},
   "toc_section_display": true,
   "toc_window_display": false
  },
  "varInspector": {
   "cols": {
    "lenName": 16,
    "lenType": 16,
    "lenVar": 40
   },
   "kernels_config": {
    "python": {
     "delete_cmd_postfix": "",
     "delete_cmd_prefix": "del ",
     "library": "var_list.py",
     "varRefreshCmd": "print(var_dic_list())"
    },
    "r": {
     "delete_cmd_postfix": ") ",
     "delete_cmd_prefix": "rm(",
     "library": "var_list.r",
     "varRefreshCmd": "cat(var_dic_list()) "
    }
   },
   "types_to_exclude": [
    "module",
    "function",
    "builtin_function_or_method",
    "instance",
    "_Feature"
   ],
   "window_display": false
  }
 },
 "nbformat": 4,
 "nbformat_minor": 1
}
